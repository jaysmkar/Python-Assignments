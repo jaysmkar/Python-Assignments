{
 "cells": [
  {
   "cell_type": "code",
   "execution_count": 1,
   "id": "b92e55fc",
   "metadata": {},
   "outputs": [
    {
     "name": "stdout",
     "output_type": "stream",
     "text": [
      "Enter the kilometers: 25\n",
      "The required miles value is:  15.53425\n"
     ]
    }
   ],
   "source": [
    "#Que1. Write a Python program to convert kilometers to miles?\n",
    "km = int(input(\"Enter the kilometers: \"))\n",
    "miles = km * 0.62137\n",
    "print(\"The required miles value is: \", miles)"
   ]
  },
  {
   "cell_type": "code",
   "execution_count": 2,
   "id": "886ccfda",
   "metadata": {},
   "outputs": [
    {
     "name": "stdout",
     "output_type": "stream",
     "text": [
      "Enter the celcius value50\n",
      "The required fahrenheit value is:  1689.9999999999998\n"
     ]
    }
   ],
   "source": [
    "#Que2. Write a Python program to convert Celsius to Fahrenheit?\n",
    "cel = int(input(\"Enter the celcius value\"))\n",
    "fah = cel * 33.8\n",
    "print(\"The required fahrenheit value is: \", fah)"
   ]
  },
  {
   "cell_type": "code",
   "execution_count": 3,
   "id": "5e4b7625",
   "metadata": {},
   "outputs": [
    {
     "name": "stdout",
     "output_type": "stream",
     "text": [
      "Enter Year: 2022\n",
      "Enter Month: 5\n",
      "      May 2022\n",
      "Mo Tu We Th Fr Sa Su\n",
      "                   1\n",
      " 2  3  4  5  6  7  8\n",
      " 9 10 11 12 13 14 15\n",
      "16 17 18 19 20 21 22\n",
      "23 24 25 26 27 28 29\n",
      "30 31\n",
      "\n"
     ]
    }
   ],
   "source": [
    "#Que3. Write a Python program to display calendar?\n",
    "import calendar\n",
    "\n",
    "year = int(input(\"Enter Year: \"))\n",
    " \n",
    "month = int(input(\"Enter Month: \"))\n",
    " \n",
    "print(calendar.month(year, month))"
   ]
  },
  {
   "cell_type": "code",
   "execution_count": 4,
   "id": "f9c41c0b",
   "metadata": {},
   "outputs": [
    {
     "name": "stdout",
     "output_type": "stream",
     "text": [
      "Enter first number: 20\n",
      "Enter second number: 55\n",
      "Old value of a is 20 and b is 55\n",
      "New value of a is 55 and b is 20\n"
     ]
    }
   ],
   "source": [
    "#Que5. Write a Python program to swap two variables without temp variable?\n",
    "a = int(input(\"Enter first number: \"))\n",
    "b = int(input(\"Enter second number: \"))\n",
    "\n",
    "print('Old value of a is {0} and b is {1}'.format(a, b))\n",
    "\n",
    "a = a + b\n",
    "b = a - b\n",
    "a = a - b\n",
    "\n",
    "print('New value of a is {0} and b is {1}'.format(a, b))"
   ]
  },
  {
   "cell_type": "code",
   "execution_count": null,
   "id": "b7d0016b",
   "metadata": {},
   "outputs": [],
   "source": []
  }
 ],
 "metadata": {
  "kernelspec": {
   "display_name": "Python 3",
   "language": "python",
   "name": "python3"
  },
  "language_info": {
   "codemirror_mode": {
    "name": "ipython",
    "version": 3
   },
   "file_extension": ".py",
   "mimetype": "text/x-python",
   "name": "python",
   "nbconvert_exporter": "python",
   "pygments_lexer": "ipython3",
   "version": "3.8.8"
  }
 },
 "nbformat": 4,
 "nbformat_minor": 5
}
