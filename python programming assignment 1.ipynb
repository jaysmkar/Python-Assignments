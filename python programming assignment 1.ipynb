{
 "cells": [
  {
   "cell_type": "code",
   "execution_count": 1,
   "id": "ae31a58e",
   "metadata": {},
   "outputs": [
    {
     "name": "stdout",
     "output_type": "stream",
     "text": [
      "Hello Python\n"
     ]
    }
   ],
   "source": [
    "# Que1.Write a Python program to print \"Hello Python\"?\n",
    "print(\"Hello Python\")"
   ]
  },
  {
   "cell_type": "code",
   "execution_count": 2,
   "id": "963839f4",
   "metadata": {},
   "outputs": [
    {
     "name": "stdout",
     "output_type": "stream",
     "text": [
      "Enter the first number: 10\n",
      "Enter the second number: 20\n",
      "The additon of the two numbers is:  30\n",
      "The division of the two numbers is:  0.5\n"
     ]
    }
   ],
   "source": [
    "# Que2.Write a Python program to do arithmetical operations addition and division.\n",
    "a = int(input(\"Enter the first number: \"))\n",
    "b = int(input(\"Enter the second number: \"))\n",
    "c = a + b\n",
    "print(\"The additon of the two numbers is: \", c)\n",
    "d = a / b\n",
    "print(\"The division of the two numbers is: \", d)"
   ]
  },
  {
   "cell_type": "code",
   "execution_count": 3,
   "id": "20a9c3a0",
   "metadata": {},
   "outputs": [
    {
     "name": "stdout",
     "output_type": "stream",
     "text": [
      "enter the base of the triangle 11\n",
      "enter the height of the triangle 33\n",
      "The area of the triangle is:  181.5\n"
     ]
    }
   ],
   "source": [
    "#Que3.Write a Python program to find the area of a triangle?\n",
    "b = int(input(\"enter the base of the triangle \"))\n",
    "h = int(input(\"enter the height of the triangle \"))\n",
    "area = 0.5 * (b * h)\n",
    "print(\"The area of the triangle is: \", area)"
   ]
  },
  {
   "cell_type": "code",
   "execution_count": 4,
   "id": "284a34dc",
   "metadata": {},
   "outputs": [
    {
     "name": "stdout",
     "output_type": "stream",
     "text": [
      "Enter the first number: 50\n",
      "Enter the second number: 100\n",
      "The first number is:  50\n",
      "The second number is:  100\n",
      "*********After swapping operation************\n",
      "The first number is:  100\n",
      "The second number is:  50\n"
     ]
    }
   ],
   "source": [
    "#Que4.Write a Python program to swap two variables?\n",
    "first = int(input(\"Enter the first number: \"))\n",
    "second = int(input(\"Enter the second number: \"))\n",
    "print(\"The first number is: \", first)\n",
    "print(\"The second number is: \", second)\n",
    "temp = first\n",
    "first = second\n",
    "second = temp\n",
    "\n",
    "print(\"*********After swapping operation************\")\n",
    "\n",
    "print(\"The first number is: \", first)\n",
    "print(\"The second number is: \", second)"
   ]
  },
  {
   "cell_type": "code",
   "execution_count": 5,
   "id": "0cb3885c",
   "metadata": {},
   "outputs": [
    {
     "name": "stdout",
     "output_type": "stream",
     "text": [
      "6243547\n"
     ]
    }
   ],
   "source": [
    "#Que5.Write a Python program to generate a random number?\n",
    "import random\n",
    "a = random.randint(0,10000000)\n",
    "print(a)"
   ]
  }
 ],
 "metadata": {
  "kernelspec": {
   "display_name": "Python 3",
   "language": "python",
   "name": "python3"
  },
  "language_info": {
   "codemirror_mode": {
    "name": "ipython",
    "version": 3
   },
   "file_extension": ".py",
   "mimetype": "text/x-python",
   "name": "python",
   "nbconvert_exporter": "python",
   "pygments_lexer": "ipython3",
   "version": "3.8.8"
  }
 },
 "nbformat": 4,
 "nbformat_minor": 5
}
